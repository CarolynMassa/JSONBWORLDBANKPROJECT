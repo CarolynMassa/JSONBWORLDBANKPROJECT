{
 "cells": [
  {
   "cell_type": "markdown",
   "metadata": {},
   "source": [
    "## JSON Project - Springboard by Carolyn Massa\n",
    "\n",
    "Project Goal: Using the world bank projects dataset and provide a solution for the three concerns below:\n",
    "\n",
    "Find the 10 countries with most projects\n",
    "Find the top 10 major project themes (using column 'mjtheme_namecode')\n",
    "In point 2 above, there are some entries that have only the code and the name is missing. Create a dataframe with the missing names filled in.\n",
    "Data Set is here: https://github.com/KarolinaMasterTrainer/JSONBWORLDBANKPROJECT/blob/master/world_bank_projects.json"
   ]
  },
  {
   "cell_type": "code",
   "execution_count": 3,
   "metadata": {},
   "outputs": [],
   "source": [
    "import pandas as pd"
   ]
  },
  {
   "cell_type": "code",
   "execution_count": 4,
   "metadata": {},
   "outputs": [],
   "source": [
    "import json\n",
    "from pandas.io.json import json_normalize\n",
    "from pandas.io.json import to_json"
   ]
  },
  {
   "cell_type": "code",
   "execution_count": null,
   "metadata": {},
   "outputs": [],
   "source": [
    "# title of file in folder dir. world_bank_projects.json and http://localhost:8888/edit/JSON_PROJECT/world_bank_projects_less.json"
   ]
  },
  {
   "cell_type": "code",
   "execution_count": 5,
   "metadata": {},
   "outputs": [],
   "source": [
    "df = pd.read_json('world_bank_projects.json')"
   ]
  },
  {
   "cell_type": "code",
   "execution_count": 6,
   "metadata": {},
   "outputs": [
    {
     "data": {
      "text/plain": [
       "<bound method DataFrame.info of                                                 sector supplementprojectflg  \\\n",
       "0    [{'Name': 'Primary education'}, {'Name': 'Seco...                    N   \n",
       "1    [{'Name': 'Public administration- Other social...                    N   \n",
       "2    [{'Name': 'Rural and Inter-Urban Roads and Hig...                    Y   \n",
       "3                  [{'Name': 'Other social services'}]                    N   \n",
       "4    [{'Name': 'General industry and trade sector'}...                    N   \n",
       "..                                                 ...                  ...   \n",
       "495  [{'Name': 'General agriculture, fishing and fo...                    N   \n",
       "496  [{'Name': 'Central government administration'}...                    N   \n",
       "497  [{'Name': 'Irrigation and drainage'}, {'Name':...                    N   \n",
       "498  [{'Name': 'Agricultural extension and research...                    N   \n",
       "499  [{'Name': 'Urban Transport'}, {'Name': 'Public...                    N   \n",
       "\n",
       "    projectfinancialtype prodline  \\\n",
       "0                    IDA       PE   \n",
       "1                  OTHER       RE   \n",
       "2                    IDA       PE   \n",
       "3                  OTHER       RE   \n",
       "4                    IDA       PE   \n",
       "..                   ...      ...   \n",
       "495                OTHER       RE   \n",
       "496                  IDA       PE   \n",
       "497                OTHER       RE   \n",
       "498                 IBRD       PE   \n",
       "499                  IDA       PE   \n",
       "\n",
       "                                               mjtheme  idacommamt  \\\n",
       "0                                  [Human development]   130000000   \n",
       "1    [Economic management, Social protection and ri...           0   \n",
       "2    [Trade and integration, Public sector governan...     6060000   \n",
       "3    [Social dev/gender/inclusion, Social dev/gende...           0   \n",
       "4    [Trade and integration, Financial and private ...    13100000   \n",
       "..                                                 ...         ...   \n",
       "495  [Financial and private sector development, Soc...           0   \n",
       "496  [Human development, Trade and integration, Pub...    20000000   \n",
       "497                                [Rural development]           0   \n",
       "498  [Rural development, Rural development, Rural d...           0   \n",
       "499  [Urban development, Human development, Trade a...   300000000   \n",
       "\n",
       "                                             impagency  \\\n",
       "0                                MINISTRY OF EDUCATION   \n",
       "1                                  MINISTRY OF FINANCE   \n",
       "2             MINISTRY OF TRANSPORT AND COMMUNICATIONS   \n",
       "3             LABOR INTENSIVE PUBLIC WORKS PROJECT PMU   \n",
       "4                       MINISTRY OF TRADE AND INDUSTRY   \n",
       "..                                                 ...   \n",
       "495                        THE COMPETITIVENESS COMPANY   \n",
       "496                                MINISTRY OF FINANCE   \n",
       "497  MINISTRY OF AGRICULTURE AND PRODUCER ORGANISAT...   \n",
       "498  INDONESIAN AGENCY FOR AGRICULTURAL RESEARCH AN...   \n",
       "499                                  MINISTRY OF ROADS   \n",
       "\n",
       "                                          project_name mjthemecode  \\\n",
       "0    Ethiopia General Education Quality Improvement...        8,11   \n",
       "1            TN: DTF Social Protection Reforms Support         1,6   \n",
       "2    Tuvalu Aviation Investment Project - Additiona...    5,2,11,6   \n",
       "3     Gov't and Civil Society Organization Partnership         7,7   \n",
       "4    Second Private Sector Competitiveness and Econ...         5,4   \n",
       "..                                                 ...         ...   \n",
       "495  Technological Scale Up for Youth-led Urban Orn...         4,7   \n",
       "496                Lao Eight Poverty Reduction Support     8,5,2,8   \n",
       "497  Second Emergency Agricultural Productivity Sup...        10,6   \n",
       "498  Sustainable Management of Agricultural Researc...    10,10,10   \n",
       "499  KENYA: NATIONAL URBAN TRANSPORT IMPROVEMENT PR...     9,8,5,4   \n",
       "\n",
       "              closingdate  ...  \\\n",
       "0    2018-07-07T00:00:00Z  ...   \n",
       "1                     NaN  ...   \n",
       "2                     NaN  ...   \n",
       "3                     NaN  ...   \n",
       "4    2019-04-30T00:00:00Z  ...   \n",
       "..                    ...  ...   \n",
       "495  2013-08-31T00:00:00Z  ...   \n",
       "496  2012-12-31T00:00:00Z  ...   \n",
       "497  2014-12-31T00:00:00Z  ...   \n",
       "498  2017-09-30T00:00:00Z  ...   \n",
       "499  2018-12-31T00:00:00Z  ...   \n",
       "\n",
       "                                   majorsector_percent board_approval_month  \\\n",
       "0    [{'Percent': 46, 'Name': 'Education'}, {'Perce...             November   \n",
       "1    [{'Percent': 70, 'Name': 'Public Administratio...             November   \n",
       "2         [{'Percent': 100, 'Name': 'Transportation'}]             November   \n",
       "3    [{'Percent': 100, 'Name': 'Health and other so...              October   \n",
       "4    [{'Percent': 50, 'Name': 'Industry and trade'}...              October   \n",
       "..                                                 ...                  ...   \n",
       "495  [{'Percent': 50, 'Name': 'Agriculture, fishing...               August   \n",
       "496  [{'Percent': 36, 'Name': 'Public Administratio...               August   \n",
       "497  [{'Percent': 40, 'Name': 'Agriculture, fishing...               August   \n",
       "498  [{'Percent': 80, 'Name': 'Agriculture, fishing...               August   \n",
       "499  [{'Percent': 79, 'Name': 'Transportation'}, {'...               August   \n",
       "\n",
       "                                        theme_namecode  \\\n",
       "0        [{'code': '65', 'name': 'Education for all'}]   \n",
       "1    [{'code': '24', 'name': 'Other economic manage...   \n",
       "2    [{'code': '47', 'name': 'Regional integration'...   \n",
       "3    [{'code': '57', 'name': 'Participation and civ...   \n",
       "4    [{'code': '45', 'name': 'Export development an...   \n",
       "..                                                 ...   \n",
       "495  [{'code': '40', 'name': 'Regulation and compet...   \n",
       "496  [{'code': '63', 'name': 'Child health'}, {'cod...   \n",
       "497  [{'code': '91', 'name': 'Global food crisis re...   \n",
       "498  [{'code': '78', 'name': 'Rural services and in...   \n",
       "499  [{'code': '73', 'name': 'Municipal governance ...   \n",
       "\n",
       "                                 countryname  \\\n",
       "0    Federal Democratic Republic of Ethiopia   \n",
       "1                        Republic of Tunisia   \n",
       "2                                     Tuvalu   \n",
       "3                          Republic of Yemen   \n",
       "4                         Kingdom of Lesotho   \n",
       "..                                       ...   \n",
       "495                                  Jamaica   \n",
       "496         Lao People's Democratic Republic   \n",
       "497                       Republic of Guinea   \n",
       "498                    Republic of Indonesia   \n",
       "499                        Republic of Kenya   \n",
       "\n",
       "                                                   url source  \\\n",
       "0    http://www.worldbank.org/projects/P129828/ethi...   IBRD   \n",
       "1    http://www.worldbank.org/projects/P144674?lang=en   IBRD   \n",
       "2    http://www.worldbank.org/projects/P145310?lang=en   IBRD   \n",
       "3    http://www.worldbank.org/projects/P144665?lang=en   IBRD   \n",
       "4    http://www.worldbank.org/projects/P144933/seco...   IBRD   \n",
       "..                                                 ...    ...   \n",
       "495  http://www.worldbank.org/projects/P127299/tech...   IBRD   \n",
       "496  http://www.worldbank.org/projects/P125298/lao-...   IBRD   \n",
       "497  http://www.worldbank.org/projects/P128309/seco...   IBRD   \n",
       "498  http://www.worldbank.org/projects/P117243/sust...   IBRD   \n",
       "499  http://www.worldbank.org/projects/P126321/keny...   IBRD   \n",
       "\n",
       "    projectstatusdisplay ibrdcommamt  \\\n",
       "0                 Active           0   \n",
       "1                 Active           0   \n",
       "2                 Active           0   \n",
       "3                 Active           0   \n",
       "4                 Active           0   \n",
       "..                   ...         ...   \n",
       "495               Closed           0   \n",
       "496               Closed           0   \n",
       "497               Active           0   \n",
       "498               Active    80000000   \n",
       "499               Active           0   \n",
       "\n",
       "                                       sector_namecode  \\\n",
       "0    [{'code': 'EP', 'name': 'Primary education'}, ...   \n",
       "1    [{'code': 'BS', 'name': 'Public administration...   \n",
       "2    [{'code': 'TI', 'name': 'Rural and Inter-Urban...   \n",
       "3    [{'code': 'JB', 'name': 'Other social services'}]   \n",
       "4    [{'code': 'YZ', 'name': 'General industry and ...   \n",
       "..                                                 ...   \n",
       "495  [{'code': 'AZ', 'name': 'General agriculture, ...   \n",
       "496  [{'code': 'BC', 'name': 'Central government ad...   \n",
       "497  [{'code': 'AI', 'name': 'Irrigation and draina...   \n",
       "498  [{'code': 'AB', 'name': 'Agricultural extensio...   \n",
       "499  [{'code': 'TC', 'name': 'Urban Transport'}, {'...   \n",
       "\n",
       "                                      _id  \n",
       "0    {'$oid': '52b213b38594d8a2be17c780'}  \n",
       "1    {'$oid': '52b213b38594d8a2be17c781'}  \n",
       "2    {'$oid': '52b213b38594d8a2be17c782'}  \n",
       "3    {'$oid': '52b213b38594d8a2be17c783'}  \n",
       "4    {'$oid': '52b213b38594d8a2be17c784'}  \n",
       "..                                    ...  \n",
       "495  {'$oid': '52b213b38594d8a2be17c96f'}  \n",
       "496  {'$oid': '52b213b38594d8a2be17c970'}  \n",
       "497  {'$oid': '52b213b38594d8a2be17c971'}  \n",
       "498  {'$oid': '52b213b38594d8a2be17c972'}  \n",
       "499  {'$oid': '52b213b38594d8a2be17c973'}  \n",
       "\n",
       "[500 rows x 50 columns]>"
      ]
     },
     "execution_count": 6,
     "metadata": {},
     "output_type": "execute_result"
    }
   ],
   "source": [
    "df.info #I review the data types"
   ]
  },
  {
   "cell_type": "code",
   "execution_count": 8,
   "metadata": {},
   "outputs": [
    {
     "data": {
      "text/plain": [
       "(500, 50)"
      ]
     },
     "execution_count": 8,
     "metadata": {},
     "output_type": "execute_result"
    }
   ],
   "source": [
    "df.shape #I see how many rows and columns"
   ]
  },
  {
   "cell_type": "code",
   "execution_count": 9,
   "metadata": {},
   "outputs": [
    {
     "data": {
      "text/html": [
       "<div>\n",
       "<style scoped>\n",
       "    .dataframe tbody tr th:only-of-type {\n",
       "        vertical-align: middle;\n",
       "    }\n",
       "\n",
       "    .dataframe tbody tr th {\n",
       "        vertical-align: top;\n",
       "    }\n",
       "\n",
       "    .dataframe thead th {\n",
       "        text-align: right;\n",
       "    }\n",
       "</style>\n",
       "<table border=\"1\" class=\"dataframe\">\n",
       "  <thead>\n",
       "    <tr style=\"text-align: right;\">\n",
       "      <th></th>\n",
       "      <th>sector</th>\n",
       "      <th>supplementprojectflg</th>\n",
       "      <th>projectfinancialtype</th>\n",
       "      <th>prodline</th>\n",
       "      <th>mjtheme</th>\n",
       "      <th>idacommamt</th>\n",
       "      <th>impagency</th>\n",
       "      <th>project_name</th>\n",
       "      <th>mjthemecode</th>\n",
       "      <th>closingdate</th>\n",
       "      <th>...</th>\n",
       "      <th>majorsector_percent</th>\n",
       "      <th>board_approval_month</th>\n",
       "      <th>theme_namecode</th>\n",
       "      <th>countryname</th>\n",
       "      <th>url</th>\n",
       "      <th>source</th>\n",
       "      <th>projectstatusdisplay</th>\n",
       "      <th>ibrdcommamt</th>\n",
       "      <th>sector_namecode</th>\n",
       "      <th>_id</th>\n",
       "    </tr>\n",
       "  </thead>\n",
       "  <tbody>\n",
       "    <tr>\n",
       "      <td>0</td>\n",
       "      <td>[{'Name': 'Primary education'}, {'Name': 'Seco...</td>\n",
       "      <td>N</td>\n",
       "      <td>IDA</td>\n",
       "      <td>PE</td>\n",
       "      <td>[Human development]</td>\n",
       "      <td>130000000</td>\n",
       "      <td>MINISTRY OF EDUCATION</td>\n",
       "      <td>Ethiopia General Education Quality Improvement...</td>\n",
       "      <td>8,11</td>\n",
       "      <td>2018-07-07T00:00:00Z</td>\n",
       "      <td>...</td>\n",
       "      <td>[{'Percent': 46, 'Name': 'Education'}, {'Perce...</td>\n",
       "      <td>November</td>\n",
       "      <td>[{'code': '65', 'name': 'Education for all'}]</td>\n",
       "      <td>Federal Democratic Republic of Ethiopia</td>\n",
       "      <td>http://www.worldbank.org/projects/P129828/ethi...</td>\n",
       "      <td>IBRD</td>\n",
       "      <td>Active</td>\n",
       "      <td>0</td>\n",
       "      <td>[{'code': 'EP', 'name': 'Primary education'}, ...</td>\n",
       "      <td>{'$oid': '52b213b38594d8a2be17c780'}</td>\n",
       "    </tr>\n",
       "    <tr>\n",
       "      <td>1</td>\n",
       "      <td>[{'Name': 'Public administration- Other social...</td>\n",
       "      <td>N</td>\n",
       "      <td>OTHER</td>\n",
       "      <td>RE</td>\n",
       "      <td>[Economic management, Social protection and ri...</td>\n",
       "      <td>0</td>\n",
       "      <td>MINISTRY OF FINANCE</td>\n",
       "      <td>TN: DTF Social Protection Reforms Support</td>\n",
       "      <td>1,6</td>\n",
       "      <td>NaN</td>\n",
       "      <td>...</td>\n",
       "      <td>[{'Percent': 70, 'Name': 'Public Administratio...</td>\n",
       "      <td>November</td>\n",
       "      <td>[{'code': '24', 'name': 'Other economic manage...</td>\n",
       "      <td>Republic of Tunisia</td>\n",
       "      <td>http://www.worldbank.org/projects/P144674?lang=en</td>\n",
       "      <td>IBRD</td>\n",
       "      <td>Active</td>\n",
       "      <td>0</td>\n",
       "      <td>[{'code': 'BS', 'name': 'Public administration...</td>\n",
       "      <td>{'$oid': '52b213b38594d8a2be17c781'}</td>\n",
       "    </tr>\n",
       "    <tr>\n",
       "      <td>2</td>\n",
       "      <td>[{'Name': 'Rural and Inter-Urban Roads and Hig...</td>\n",
       "      <td>Y</td>\n",
       "      <td>IDA</td>\n",
       "      <td>PE</td>\n",
       "      <td>[Trade and integration, Public sector governan...</td>\n",
       "      <td>6060000</td>\n",
       "      <td>MINISTRY OF TRANSPORT AND COMMUNICATIONS</td>\n",
       "      <td>Tuvalu Aviation Investment Project - Additiona...</td>\n",
       "      <td>5,2,11,6</td>\n",
       "      <td>NaN</td>\n",
       "      <td>...</td>\n",
       "      <td>[{'Percent': 100, 'Name': 'Transportation'}]</td>\n",
       "      <td>November</td>\n",
       "      <td>[{'code': '47', 'name': 'Regional integration'...</td>\n",
       "      <td>Tuvalu</td>\n",
       "      <td>http://www.worldbank.org/projects/P145310?lang=en</td>\n",
       "      <td>IBRD</td>\n",
       "      <td>Active</td>\n",
       "      <td>0</td>\n",
       "      <td>[{'code': 'TI', 'name': 'Rural and Inter-Urban...</td>\n",
       "      <td>{'$oid': '52b213b38594d8a2be17c782'}</td>\n",
       "    </tr>\n",
       "    <tr>\n",
       "      <td>3</td>\n",
       "      <td>[{'Name': 'Other social services'}]</td>\n",
       "      <td>N</td>\n",
       "      <td>OTHER</td>\n",
       "      <td>RE</td>\n",
       "      <td>[Social dev/gender/inclusion, Social dev/gende...</td>\n",
       "      <td>0</td>\n",
       "      <td>LABOR INTENSIVE PUBLIC WORKS PROJECT PMU</td>\n",
       "      <td>Gov't and Civil Society Organization Partnership</td>\n",
       "      <td>7,7</td>\n",
       "      <td>NaN</td>\n",
       "      <td>...</td>\n",
       "      <td>[{'Percent': 100, 'Name': 'Health and other so...</td>\n",
       "      <td>October</td>\n",
       "      <td>[{'code': '57', 'name': 'Participation and civ...</td>\n",
       "      <td>Republic of Yemen</td>\n",
       "      <td>http://www.worldbank.org/projects/P144665?lang=en</td>\n",
       "      <td>IBRD</td>\n",
       "      <td>Active</td>\n",
       "      <td>0</td>\n",
       "      <td>[{'code': 'JB', 'name': 'Other social services'}]</td>\n",
       "      <td>{'$oid': '52b213b38594d8a2be17c783'}</td>\n",
       "    </tr>\n",
       "    <tr>\n",
       "      <td>4</td>\n",
       "      <td>[{'Name': 'General industry and trade sector'}...</td>\n",
       "      <td>N</td>\n",
       "      <td>IDA</td>\n",
       "      <td>PE</td>\n",
       "      <td>[Trade and integration, Financial and private ...</td>\n",
       "      <td>13100000</td>\n",
       "      <td>MINISTRY OF TRADE AND INDUSTRY</td>\n",
       "      <td>Second Private Sector Competitiveness and Econ...</td>\n",
       "      <td>5,4</td>\n",
       "      <td>2019-04-30T00:00:00Z</td>\n",
       "      <td>...</td>\n",
       "      <td>[{'Percent': 50, 'Name': 'Industry and trade'}...</td>\n",
       "      <td>October</td>\n",
       "      <td>[{'code': '45', 'name': 'Export development an...</td>\n",
       "      <td>Kingdom of Lesotho</td>\n",
       "      <td>http://www.worldbank.org/projects/P144933/seco...</td>\n",
       "      <td>IBRD</td>\n",
       "      <td>Active</td>\n",
       "      <td>0</td>\n",
       "      <td>[{'code': 'YZ', 'name': 'General industry and ...</td>\n",
       "      <td>{'$oid': '52b213b38594d8a2be17c784'}</td>\n",
       "    </tr>\n",
       "  </tbody>\n",
       "</table>\n",
       "<p>5 rows × 50 columns</p>\n",
       "</div>"
      ],
      "text/plain": [
       "                                              sector supplementprojectflg  \\\n",
       "0  [{'Name': 'Primary education'}, {'Name': 'Seco...                    N   \n",
       "1  [{'Name': 'Public administration- Other social...                    N   \n",
       "2  [{'Name': 'Rural and Inter-Urban Roads and Hig...                    Y   \n",
       "3                [{'Name': 'Other social services'}]                    N   \n",
       "4  [{'Name': 'General industry and trade sector'}...                    N   \n",
       "\n",
       "  projectfinancialtype prodline  \\\n",
       "0                  IDA       PE   \n",
       "1                OTHER       RE   \n",
       "2                  IDA       PE   \n",
       "3                OTHER       RE   \n",
       "4                  IDA       PE   \n",
       "\n",
       "                                             mjtheme  idacommamt  \\\n",
       "0                                [Human development]   130000000   \n",
       "1  [Economic management, Social protection and ri...           0   \n",
       "2  [Trade and integration, Public sector governan...     6060000   \n",
       "3  [Social dev/gender/inclusion, Social dev/gende...           0   \n",
       "4  [Trade and integration, Financial and private ...    13100000   \n",
       "\n",
       "                                  impagency  \\\n",
       "0                     MINISTRY OF EDUCATION   \n",
       "1                       MINISTRY OF FINANCE   \n",
       "2  MINISTRY OF TRANSPORT AND COMMUNICATIONS   \n",
       "3  LABOR INTENSIVE PUBLIC WORKS PROJECT PMU   \n",
       "4            MINISTRY OF TRADE AND INDUSTRY   \n",
       "\n",
       "                                        project_name mjthemecode  \\\n",
       "0  Ethiopia General Education Quality Improvement...        8,11   \n",
       "1          TN: DTF Social Protection Reforms Support         1,6   \n",
       "2  Tuvalu Aviation Investment Project - Additiona...    5,2,11,6   \n",
       "3   Gov't and Civil Society Organization Partnership         7,7   \n",
       "4  Second Private Sector Competitiveness and Econ...         5,4   \n",
       "\n",
       "            closingdate  ...  \\\n",
       "0  2018-07-07T00:00:00Z  ...   \n",
       "1                   NaN  ...   \n",
       "2                   NaN  ...   \n",
       "3                   NaN  ...   \n",
       "4  2019-04-30T00:00:00Z  ...   \n",
       "\n",
       "                                 majorsector_percent board_approval_month  \\\n",
       "0  [{'Percent': 46, 'Name': 'Education'}, {'Perce...             November   \n",
       "1  [{'Percent': 70, 'Name': 'Public Administratio...             November   \n",
       "2       [{'Percent': 100, 'Name': 'Transportation'}]             November   \n",
       "3  [{'Percent': 100, 'Name': 'Health and other so...              October   \n",
       "4  [{'Percent': 50, 'Name': 'Industry and trade'}...              October   \n",
       "\n",
       "                                      theme_namecode  \\\n",
       "0      [{'code': '65', 'name': 'Education for all'}]   \n",
       "1  [{'code': '24', 'name': 'Other economic manage...   \n",
       "2  [{'code': '47', 'name': 'Regional integration'...   \n",
       "3  [{'code': '57', 'name': 'Participation and civ...   \n",
       "4  [{'code': '45', 'name': 'Export development an...   \n",
       "\n",
       "                               countryname  \\\n",
       "0  Federal Democratic Republic of Ethiopia   \n",
       "1                      Republic of Tunisia   \n",
       "2                                   Tuvalu   \n",
       "3                        Republic of Yemen   \n",
       "4                       Kingdom of Lesotho   \n",
       "\n",
       "                                                 url source  \\\n",
       "0  http://www.worldbank.org/projects/P129828/ethi...   IBRD   \n",
       "1  http://www.worldbank.org/projects/P144674?lang=en   IBRD   \n",
       "2  http://www.worldbank.org/projects/P145310?lang=en   IBRD   \n",
       "3  http://www.worldbank.org/projects/P144665?lang=en   IBRD   \n",
       "4  http://www.worldbank.org/projects/P144933/seco...   IBRD   \n",
       "\n",
       "  projectstatusdisplay ibrdcommamt  \\\n",
       "0               Active           0   \n",
       "1               Active           0   \n",
       "2               Active           0   \n",
       "3               Active           0   \n",
       "4               Active           0   \n",
       "\n",
       "                                     sector_namecode  \\\n",
       "0  [{'code': 'EP', 'name': 'Primary education'}, ...   \n",
       "1  [{'code': 'BS', 'name': 'Public administration...   \n",
       "2  [{'code': 'TI', 'name': 'Rural and Inter-Urban...   \n",
       "3  [{'code': 'JB', 'name': 'Other social services'}]   \n",
       "4  [{'code': 'YZ', 'name': 'General industry and ...   \n",
       "\n",
       "                                    _id  \n",
       "0  {'$oid': '52b213b38594d8a2be17c780'}  \n",
       "1  {'$oid': '52b213b38594d8a2be17c781'}  \n",
       "2  {'$oid': '52b213b38594d8a2be17c782'}  \n",
       "3  {'$oid': '52b213b38594d8a2be17c783'}  \n",
       "4  {'$oid': '52b213b38594d8a2be17c784'}  \n",
       "\n",
       "[5 rows x 50 columns]"
      ]
     },
     "execution_count": 9,
     "metadata": {},
     "output_type": "execute_result"
    }
   ],
   "source": [
    "df.head() #I check both the column row and names\n"
   ]
  },
  {
   "cell_type": "code",
   "execution_count": null,
   "metadata": {},
   "outputs": [],
   "source": [
    "#I verify that there are 500 observations and 50 attributes and now need to find the 10 countries who have the most projects"
   ]
  },
  {
   "cell_type": "code",
   "execution_count": 10,
   "metadata": {},
   "outputs": [
    {
     "name": "stdout",
     "output_type": "stream",
     "text": [
      "<class 'pandas.core.frame.DataFrame'>\n",
      "RangeIndex: 500 entries, 0 to 499\n",
      "Data columns (total 50 columns):\n",
      "sector                      500 non-null object\n",
      "supplementprojectflg        498 non-null object\n",
      "projectfinancialtype        500 non-null object\n",
      "prodline                    500 non-null object\n",
      "mjtheme                     491 non-null object\n",
      "idacommamt                  500 non-null int64\n",
      "impagency                   472 non-null object\n",
      "project_name                500 non-null object\n",
      "mjthemecode                 500 non-null object\n",
      "closingdate                 370 non-null object\n",
      "totalcommamt                500 non-null int64\n",
      "id                          500 non-null object\n",
      "mjsector_namecode           500 non-null object\n",
      "docty                       446 non-null object\n",
      "sector1                     500 non-null object\n",
      "lendinginstr                495 non-null object\n",
      "countrycode                 500 non-null object\n",
      "sector2                     380 non-null object\n",
      "totalamt                    500 non-null int64\n",
      "mjtheme_namecode            500 non-null object\n",
      "boardapprovaldate           500 non-null object\n",
      "countryshortname            500 non-null object\n",
      "sector4                     174 non-null object\n",
      "prodlinetext                500 non-null object\n",
      "productlinetype             500 non-null object\n",
      "regionname                  500 non-null object\n",
      "status                      500 non-null object\n",
      "country_namecode            500 non-null object\n",
      "envassesmentcategorycode    430 non-null object\n",
      "project_abstract            362 non-null object\n",
      "approvalfy                  500 non-null int64\n",
      "projectdocs                 446 non-null object\n",
      "lendprojectcost             500 non-null int64\n",
      "lendinginstrtype            495 non-null object\n",
      "theme1                      500 non-null object\n",
      "grantamt                    500 non-null int64\n",
      "themecode                   491 non-null object\n",
      "borrower                    485 non-null object\n",
      "sectorcode                  500 non-null object\n",
      "sector3                     265 non-null object\n",
      "majorsector_percent         500 non-null object\n",
      "board_approval_month        500 non-null object\n",
      "theme_namecode              491 non-null object\n",
      "countryname                 500 non-null object\n",
      "url                         500 non-null object\n",
      "source                      500 non-null object\n",
      "projectstatusdisplay        500 non-null object\n",
      "ibrdcommamt                 500 non-null int64\n",
      "sector_namecode             500 non-null object\n",
      "_id                         500 non-null object\n",
      "dtypes: int64(7), object(43)\n",
      "memory usage: 195.4+ KB\n"
     ]
    }
   ],
   "source": [
    "df.info()"
   ]
  },
  {
   "cell_type": "code",
   "execution_count": 12,
   "metadata": {},
   "outputs": [
    {
     "data": {
      "text/plain": [
       "countryname         500\n",
       "country_namecode    500\n",
       "project_name        500\n",
       "dtype: int64"
      ]
     },
     "execution_count": 12,
     "metadata": {},
     "output_type": "execute_result"
    }
   ],
   "source": [
    "#I analyze the data above and discover that there are no missing values so I move on to choose the attributes that will give me the counts that I need\n",
    "df[['countryname','country_namecode','project_name']].count()"
   ]
  },
  {
   "cell_type": "code",
   "execution_count": 13,
   "metadata": {},
   "outputs": [
    {
     "data": {
      "text/plain": [
       "countryname     118\n",
       "project_name    500\n",
       "dtype: int64"
      ]
     },
     "execution_count": 13,
     "metadata": {},
     "output_type": "execute_result"
    }
   ],
   "source": [
    "#in the above data I do not see certain observations as they relate to the attributes so I will use the Pandas npunique Pandas to return Series with number of distinct observations over requested axis. If we set the value of axis to be 0, then it finds the total number of unique observations over the index axis. nunique will also drop any NAN values though I did not observe any \n",
    "df[['countryname', 'project_name']].nunique()"
   ]
  },
  {
   "cell_type": "code",
   "execution_count": 28,
   "metadata": {},
   "outputs": [
    {
     "name": "stdout",
     "output_type": "stream",
     "text": [
      "Republic of Indonesia              19\n",
      "People's Republic of China         19\n",
      "Socialist Republic of Vietnam      17\n",
      "Republic of India                  16\n",
      "Republic of Yemen                  13\n",
      "People's Republic of Bangladesh    12\n",
      "Nepal                              12\n",
      "Kingdom of Morocco                 12\n",
      "Africa                             11\n",
      "Republic of Mozambique             11\n",
      "Name: countryname, dtype: int64\n"
     ]
    }
   ],
   "source": [
    "count = df['countryname'].value_counts() # Next I used a value count from a data frame and printed the top 10 countries\n",
    "print(count.head (10)) "
   ]
  },
  {
   "cell_type": "markdown",
   "metadata": {},
   "source": [
    "Problem #2 Find the top 10 major project themes (using column 'mjtheme_namecode')"
   ]
  },
  {
   "cell_type": "code",
   "execution_count": 29,
   "metadata": {},
   "outputs": [],
   "source": [
    "#Next I must flatten the data column that shows each project theme that are of interest\n",
    "def flatten_theme():\n",
    "    themeJsonList = df['mjtheme_namecode'].tolist()\n",
    "    dfs=[json_normalize(themeJson)for themeJson in themeJsonList]\n",
    "    return pd.concat(dfs, ignore_index=True)\n"
   ]
  },
  {
   "cell_type": "code",
   "execution_count": 30,
   "metadata": {},
   "outputs": [
    {
     "data": {
      "text/html": [
       "<div>\n",
       "<style scoped>\n",
       "    .dataframe tbody tr th:only-of-type {\n",
       "        vertical-align: middle;\n",
       "    }\n",
       "\n",
       "    .dataframe tbody tr th {\n",
       "        vertical-align: top;\n",
       "    }\n",
       "\n",
       "    .dataframe thead th {\n",
       "        text-align: right;\n",
       "    }\n",
       "</style>\n",
       "<table border=\"1\" class=\"dataframe\">\n",
       "  <thead>\n",
       "    <tr style=\"text-align: right;\">\n",
       "      <th></th>\n",
       "      <th>code</th>\n",
       "      <th>name</th>\n",
       "    </tr>\n",
       "  </thead>\n",
       "  <tbody>\n",
       "    <tr>\n",
       "      <td>0</td>\n",
       "      <td>8</td>\n",
       "      <td>Human development</td>\n",
       "    </tr>\n",
       "    <tr>\n",
       "      <td>1</td>\n",
       "      <td>11</td>\n",
       "      <td></td>\n",
       "    </tr>\n",
       "    <tr>\n",
       "      <td>2</td>\n",
       "      <td>1</td>\n",
       "      <td>Economic management</td>\n",
       "    </tr>\n",
       "    <tr>\n",
       "      <td>3</td>\n",
       "      <td>6</td>\n",
       "      <td>Social protection and risk management</td>\n",
       "    </tr>\n",
       "    <tr>\n",
       "      <td>4</td>\n",
       "      <td>5</td>\n",
       "      <td>Trade and integration</td>\n",
       "    </tr>\n",
       "  </tbody>\n",
       "</table>\n",
       "</div>"
      ],
      "text/plain": [
       "  code                                   name\n",
       "0    8                      Human development\n",
       "1   11                                       \n",
       "2    1                    Economic management\n",
       "3    6  Social protection and risk management\n",
       "4    5                  Trade and integration"
      ]
     },
     "execution_count": 30,
     "metadata": {},
     "output_type": "execute_result"
    }
   ],
   "source": [
    "#After I have \"flattened\" the file as it just be done to transform the JSON file into a Pandas Dataframe\n",
    "\n",
    "Project_Theme_df=flatten_theme()\n",
    "Project_Theme_df.head()"
   ]
  },
  {
   "cell_type": "code",
   "execution_count": 32,
   "metadata": {},
   "outputs": [
    {
     "data": {
      "text/plain": [
       "(1499, 2)"
      ]
     },
     "execution_count": 32,
     "metadata": {},
     "output_type": "execute_result"
    }
   ],
   "source": [
    "Project_Theme_df.shape # Here I see I am not working with 1499 rows and 2 columns"
   ]
  },
  {
   "cell_type": "code",
   "execution_count": 36,
   "metadata": {},
   "outputs": [
    {
     "data": {
      "text/plain": [
       "<bound method DataFrame.info of      code                                      name\n",
       "0       8                         Human development\n",
       "1      11                                          \n",
       "2       1                       Economic management\n",
       "3       6     Social protection and risk management\n",
       "4       5                     Trade and integration\n",
       "...   ...                                       ...\n",
       "1494   10                         Rural development\n",
       "1495    9                         Urban development\n",
       "1496    8                         Human development\n",
       "1497    5                     Trade and integration\n",
       "1498    4  Financial and private sector development\n",
       "\n",
       "[1499 rows x 2 columns]>"
      ]
     },
     "execution_count": 36,
     "metadata": {},
     "output_type": "execute_result"
    }
   ],
   "source": [
    "Project_Theme_df.info # Here I can see my observations and attributes\n"
   ]
  },
  {
   "cell_type": "code",
   "execution_count": 37,
   "metadata": {},
   "outputs": [
    {
     "name": "stdout",
     "output_type": "stream",
     "text": [
      "<class 'pandas.core.frame.DataFrame'>\n",
      "RangeIndex: 1499 entries, 0 to 1498\n",
      "Data columns (total 2 columns):\n",
      "code    1499 non-null object\n",
      "name    1499 non-null object\n",
      "dtypes: object(2)\n",
      "memory usage: 23.5+ KB\n"
     ]
    }
   ],
   "source": [
    "Project_Theme_df.info() #I again verify that there are no missings objects"
   ]
  },
  {
   "cell_type": "code",
   "execution_count": 40,
   "metadata": {},
   "outputs": [
    {
     "name": "stdout",
     "output_type": "stream",
     "text": [
      "blank code:\n",
      "code    0\n",
      "name    0\n",
      "dtype: int64\n",
      "\n",
      "blank name:\n",
      "code    122\n",
      "name    122\n",
      "dtype: int64\n"
     ]
    }
   ],
   "source": [
    "#I know need to check for blanks in the two columns #The function isnan() checks to see if something is \"Not A Number\" and will return whether or not a variable is a number, for example isnan(2) would return false\n",
    "print('blank code:')\n",
    "print(Project_Theme_df[Project_Theme_df.code==''].count())\n",
    "print()\n",
    "print('blank name:')\n",
    "print(Project_Theme_df[Project_Theme_df.name==''].count())"
   ]
  },
  {
   "cell_type": "code",
   "execution_count": 43,
   "metadata": {},
   "outputs": [
    {
     "data": {
      "text/plain": [
       "0       2\n",
       "1       2\n",
       "2       2\n",
       "3       2\n",
       "4       2\n",
       "       ..\n",
       "1494    2\n",
       "1495    2\n",
       "1496    2\n",
       "1497    2\n",
       "1498    2\n",
       "Length: 1499, dtype: int64"
      ]
     },
     "execution_count": 43,
     "metadata": {},
     "output_type": "execute_result"
    }
   ],
   "source": [
    "Project_Theme_df.notnull().count(axis=1)"
   ]
  },
  {
   "cell_type": "code",
   "execution_count": 46,
   "metadata": {},
   "outputs": [
    {
     "data": {
      "text/plain": [
       "Environment and natural resources management    223\n",
       "Rural development                               202\n",
       "Human development                               197\n",
       "Public sector governance                        184\n",
       "Social protection and risk management           158\n",
       "Financial and private sector development        130\n",
       "Social dev/gender/inclusion                     119\n",
       "Trade and integration                            72\n",
       "Urban development                                47\n",
       "Economic management                              33\n",
       "Name: name, dtype: int64"
      ]
     },
     "execution_count": 46,
     "metadata": {},
     "output_type": "execute_result"
    }
   ],
   "source": [
    "# Get the top 10 theme names as they relate to the Project Theme\n",
    "Top10 = Project_Theme_df[Project_Theme_df.name != ''].name.value_counts().sort_values(ascending = False)\n",
    "Top10.head(10)"
   ]
  },
  {
   "cell_type": "markdown",
   "metadata": {},
   "source": [
    "Problem # 3 : In problem 2 above, there are 122 Project_Theme observations where the name is missing. Create a dataframe with the missing names filled in.\n",
    "I need to find out what non-blank data is in the code column first them I can imput the name column from those values"
   ]
  },
  {
   "cell_type": "code",
   "execution_count": 58,
   "metadata": {},
   "outputs": [
    {
     "data": {
      "text/plain": [
       "11"
      ]
     },
     "execution_count": 58,
     "metadata": {},
     "output_type": "execute_result"
    }
   ],
   "source": [
    "# firs I will find count of unique code \n",
    "Project_Theme_df['code'].nunique()"
   ]
  },
  {
   "cell_type": "code",
   "execution_count": 61,
   "metadata": {},
   "outputs": [
    {
     "data": {
      "text/html": [
       "<div>\n",
       "<style scoped>\n",
       "    .dataframe tbody tr th:only-of-type {\n",
       "        vertical-align: middle;\n",
       "    }\n",
       "\n",
       "    .dataframe tbody tr th {\n",
       "        vertical-align: top;\n",
       "    }\n",
       "\n",
       "    .dataframe thead th {\n",
       "        text-align: right;\n",
       "    }\n",
       "</style>\n",
       "<table border=\"1\" class=\"dataframe\">\n",
       "  <thead>\n",
       "    <tr style=\"text-align: right;\">\n",
       "      <th></th>\n",
       "      <th>code</th>\n",
       "      <th>name</th>\n",
       "    </tr>\n",
       "  </thead>\n",
       "  <tbody>\n",
       "    <tr>\n",
       "      <td>0</td>\n",
       "      <td>8</td>\n",
       "      <td>Human development</td>\n",
       "    </tr>\n",
       "    <tr>\n",
       "      <td>1</td>\n",
       "      <td>1</td>\n",
       "      <td>Economic management</td>\n",
       "    </tr>\n",
       "    <tr>\n",
       "      <td>2</td>\n",
       "      <td>6</td>\n",
       "      <td>Social protection and risk management</td>\n",
       "    </tr>\n",
       "    <tr>\n",
       "      <td>3</td>\n",
       "      <td>5</td>\n",
       "      <td>Trade and integration</td>\n",
       "    </tr>\n",
       "    <tr>\n",
       "      <td>4</td>\n",
       "      <td>2</td>\n",
       "      <td>Public sector governance</td>\n",
       "    </tr>\n",
       "    <tr>\n",
       "      <td>5</td>\n",
       "      <td>11</td>\n",
       "      <td>Environment and natural resources management</td>\n",
       "    </tr>\n",
       "    <tr>\n",
       "      <td>6</td>\n",
       "      <td>7</td>\n",
       "      <td>Social dev/gender/inclusion</td>\n",
       "    </tr>\n",
       "    <tr>\n",
       "      <td>7</td>\n",
       "      <td>4</td>\n",
       "      <td>Financial and private sector development</td>\n",
       "    </tr>\n",
       "    <tr>\n",
       "      <td>8</td>\n",
       "      <td>10</td>\n",
       "      <td>Rural development</td>\n",
       "    </tr>\n",
       "    <tr>\n",
       "      <td>9</td>\n",
       "      <td>9</td>\n",
       "      <td>Urban development</td>\n",
       "    </tr>\n",
       "    <tr>\n",
       "      <td>10</td>\n",
       "      <td>3</td>\n",
       "      <td>Rule of law</td>\n",
       "    </tr>\n",
       "  </tbody>\n",
       "</table>\n",
       "</div>"
      ],
      "text/plain": [
       "   code                                          name\n",
       "0     8                             Human development\n",
       "1     1                           Economic management\n",
       "2     6         Social protection and risk management\n",
       "3     5                         Trade and integration\n",
       "4     2                      Public sector governance\n",
       "5    11  Environment and natural resources management\n",
       "6     7                   Social dev/gender/inclusion\n",
       "7     4      Financial and private sector development\n",
       "8    10                             Rural development\n",
       "9     9                             Urban development\n",
       "10    3                                   Rule of law"
      ]
     },
     "execution_count": 61,
     "metadata": {},
     "output_type": "execute_result"
    }
   ],
   "source": [
    "# Review both  code and name alongside and reset the index as we want to combine them to fill in blanks with the code\n",
    "unique_Project_Theme_df = Project_Theme_df.drop_duplicates()\n",
    "unique_Project_Theme_df = unique_Project_Theme_df[unique_Project_Theme_df.name != '']\n",
    "\n",
    "unique_Project_Theme_df = unique_Project_Theme_df.reset_index().drop('index',axis=1)\n",
    "unique_Project_Theme_df"
   ]
  },
  {
   "cell_type": "code",
   "execution_count": 62,
   "metadata": {},
   "outputs": [
    {
     "data": {
      "text/html": [
       "<div>\n",
       "<style scoped>\n",
       "    .dataframe tbody tr th:only-of-type {\n",
       "        vertical-align: middle;\n",
       "    }\n",
       "\n",
       "    .dataframe tbody tr th {\n",
       "        vertical-align: top;\n",
       "    }\n",
       "\n",
       "    .dataframe thead th {\n",
       "        text-align: right;\n",
       "    }\n",
       "</style>\n",
       "<table border=\"1\" class=\"dataframe\">\n",
       "  <thead>\n",
       "    <tr style=\"text-align: right;\">\n",
       "      <th></th>\n",
       "      <th>code</th>\n",
       "      <th>name</th>\n",
       "    </tr>\n",
       "  </thead>\n",
       "  <tbody>\n",
       "    <tr>\n",
       "      <td>0</td>\n",
       "      <td>8</td>\n",
       "      <td>Human development</td>\n",
       "    </tr>\n",
       "    <tr>\n",
       "      <td>1</td>\n",
       "      <td>8</td>\n",
       "      <td>Human development</td>\n",
       "    </tr>\n",
       "    <tr>\n",
       "      <td>2</td>\n",
       "      <td>8</td>\n",
       "      <td>Human development</td>\n",
       "    </tr>\n",
       "    <tr>\n",
       "      <td>3</td>\n",
       "      <td>8</td>\n",
       "      <td>Human development</td>\n",
       "    </tr>\n",
       "    <tr>\n",
       "      <td>4</td>\n",
       "      <td>8</td>\n",
       "      <td>Human development</td>\n",
       "    </tr>\n",
       "  </tbody>\n",
       "</table>\n",
       "</div>"
      ],
      "text/plain": [
       "  code               name\n",
       "0    8  Human development\n",
       "1    8  Human development\n",
       "2    8  Human development\n",
       "3    8  Human development\n",
       "4    8  Human development"
      ]
     },
     "execution_count": 62,
     "metadata": {},
     "output_type": "execute_result"
    }
   ],
   "source": [
    "#now that we have merged the dataframes we can fill them in\n",
    "filled_Project_Theme_df = pd.merge(Project_Theme_df, unique_Project_Theme_df, on='code', suffixes=('_x','')).drop('name_x' , axis=1)\n",
    "filled_Project_Theme_df.head()"
   ]
  },
  {
   "cell_type": "code",
   "execution_count": 63,
   "metadata": {},
   "outputs": [
    {
     "data": {
      "text/plain": [
       "Environment and natural resources management    250\n",
       "Rural development                               216\n",
       "Human development                               210\n",
       "Public sector governance                        199\n",
       "Social protection and risk management           168\n",
       "Financial and private sector development        146\n",
       "Social dev/gender/inclusion                     130\n",
       "Trade and integration                            77\n",
       "Urban development                                50\n",
       "Economic management                              38\n",
       "Rule of law                                      15\n",
       "Name: name, dtype: int64"
      ]
     },
     "execution_count": 63,
     "metadata": {},
     "output_type": "execute_result"
    }
   ],
   "source": [
    "\n",
    "filled_Project_Theme_df['name'].value_counts()"
   ]
  },
  {
   "cell_type": "code",
   "execution_count": 64,
   "metadata": {},
   "outputs": [
    {
     "data": {
      "text/plain": [
       "code    0\n",
       "name    0\n",
       "dtype: int64"
      ]
     },
     "execution_count": 64,
     "metadata": {},
     "output_type": "execute_result"
    }
   ],
   "source": [
    "\n",
    "# Ensuring the blank value are gone which satisfies the 3 exercises\n",
    "filled_Project_Theme_df[filled_Project_Theme_df.name == ''].count()"
   ]
  },
  {
   "cell_type": "code",
   "execution_count": 79,
   "metadata": {},
   "outputs": [
    {
     "data": {
      "image/png": "[encoded data removed]",
      "text/plain": [
       "<Figure size 3600x288 with 2 Axes>"
      ]
     },
     "metadata": {
      "needs_background": "light"
     },
     "output_type": "display_data"
    }
   ],
   "source": [
    "import seaborn as sns #count by theme (needs to be revised to show country name)\n",
    "_, axes = plt.subplots(nrows=1, ncols=2, figsize=(50, 4))\n",
    "\n",
    "sns.countplot(x='name', data=Project_Theme_df, ax=axes[0]);\n",
    "sns.countplot(x='name', data=Project_Theme_df, ax=axes[1]);"
   ]
  },
  {
   "cell_type": "code",
   "execution_count": null,
   "metadata": {},
   "outputs": [],
   "source": []
  }
 ],
 "metadata": {
  "kernelspec": {
   "display_name": "Python 3",
   "language": "python",
   "name": "python3"
  },
  "language_info": {
   "codemirror_mode": {
    "name": "ipython",
    "version": 3
   },
   "file_extension": ".py",
   "mimetype": "text/x-python",
   "name": "python",
   "nbconvert_exporter": "python",
   "pygments_lexer": "ipython3",
   "version": "3.7.4"
  }
 },
 "nbformat": 4,
 "nbformat_minor": 2
}
